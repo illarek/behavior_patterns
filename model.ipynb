{
 "cells": [
  {
   "cell_type": "markdown",
   "metadata": {},
   "source": [
    "# Perfiles de comportamientio y minado de patrones"
   ]
  },
  {
   "cell_type": "code",
   "execution_count": 1,
   "metadata": {},
   "outputs": [],
   "source": [
    "import numpy as np\n",
    "import datetime\n",
    "from datetime import date\n",
    "import json\n",
    "import pylab\n",
    "import pandas as pd\n",
    "import matplotlib.pyplot as plt\n",
    "import os, sys, logging, warnings, time"
   ]
  },
  {
   "cell_type": "code",
   "execution_count": 2,
   "metadata": {},
   "outputs": [],
   "source": [
    "sys.path.append(os.path.join(os.path.dirname(os.getcwd()), \"behavior_patterns/src/\"))\n",
    "import load_data as data_loader"
   ]
  },
  {
   "cell_type": "markdown",
   "metadata": {},
   "source": [
    "## Contruccion de \"FootPrints\"\n",
    "\n",
    "En esta etapa contruiremos los \"footprints\" basicos (tensores dimesionales) de cada cliente a partir de sus datos transaccionales, la dimesiones del footprint son elegidas por el usuario, nosotros tenemos los siguientes casos de estudio:"
   ]
  },
  {
   "cell_type": "markdown",
   "metadata": {},
   "source": [
    "**Datos de bancarios**:\n",
    " - Sesion de TX\n",
    "   - s = {cliente, timestamp, Monto}  \n",
    " - Cada cliente tiene una secuencia de sesiones de TX (S)\n",
    "    - S = { s1, s2 , s3, ..., sn}                n: # de sesiones de cada cliente\n",
    "\n",
    "**Datos mobiles**:\n",
    " - Sesion de TX\n",
    "   - s = {cliente, timestamp, Monto}  \n",
    " - Cada cliente tiene una secuencia de sesiones de TX (S)\n",
    "    - S = { s1, s2 , s3, ..., sn}    "
   ]
  },
  {
   "cell_type": "code",
   "execution_count": 3,
   "metadata": {},
   "outputs": [],
   "source": [
    "to_read = 'bank_trx' \n",
    "session = data_loader.session_data(font=to_read)"
   ]
  },
  {
   "cell_type": "code",
   "execution_count": 4,
   "metadata": {},
   "outputs": [
    {
     "data": {
      "text/html": [
       "<div>\n",
       "<style scoped>\n",
       "    .dataframe tbody tr th:only-of-type {\n",
       "        vertical-align: middle;\n",
       "    }\n",
       "\n",
       "    .dataframe tbody tr th {\n",
       "        vertical-align: top;\n",
       "    }\n",
       "\n",
       "    .dataframe thead th {\n",
       "        text-align: right;\n",
       "    }\n",
       "</style>\n",
       "<table border=\"1\" class=\"dataframe\">\n",
       "  <thead>\n",
       "    <tr style=\"text-align: right;\">\n",
       "      <th></th>\n",
       "      <th>client_id</th>\n",
       "      <th>date</th>\n",
       "      <th>año</th>\n",
       "      <th>mes</th>\n",
       "      <th>dia</th>\n",
       "      <th>hora</th>\n",
       "      <th>merchant_departement</th>\n",
       "      <th>merchant_province</th>\n",
       "      <th>merchant_district</th>\n",
       "      <th>mccg</th>\n",
       "      <th>mccg_name</th>\n",
       "      <th>mcc</th>\n",
       "      <th>quantity</th>\n",
       "      <th>amount_usd</th>\n",
       "      <th>amount_sol</th>\n",
       "      <th>week</th>\n",
       "      <th>weekday</th>\n",
       "      <th>day</th>\n",
       "      <th>turn</th>\n",
       "    </tr>\n",
       "  </thead>\n",
       "  <tbody>\n",
       "    <tr>\n",
       "      <th>0</th>\n",
       "      <td>+++g8j9k+5A=</td>\n",
       "      <td>2016-07-07 01:08:05</td>\n",
       "      <td>2016</td>\n",
       "      <td>7</td>\n",
       "      <td>7</td>\n",
       "      <td>1</td>\n",
       "      <td>LIMA</td>\n",
       "      <td>LIMA</td>\n",
       "      <td>San Juan De Luriganc</td>\n",
       "      <td>9</td>\n",
       "      <td>Clothing Stores</td>\n",
       "      <td>5655</td>\n",
       "      <td>1</td>\n",
       "      <td>13.875570</td>\n",
       "      <td>45.0</td>\n",
       "      <td>27</td>\n",
       "      <td>3</td>\n",
       "      <td>Thursday</td>\n",
       "      <td>1</td>\n",
       "    </tr>\n",
       "    <tr>\n",
       "      <th>1</th>\n",
       "      <td>++/oQ9Lb9dI=</td>\n",
       "      <td>2017-05-29 21:05:40</td>\n",
       "      <td>2017</td>\n",
       "      <td>5</td>\n",
       "      <td>29</td>\n",
       "      <td>21</td>\n",
       "      <td>LIMA</td>\n",
       "      <td>LIMA</td>\n",
       "      <td>San Juan De Luriganc</td>\n",
       "      <td>7</td>\n",
       "      <td>Utility Services</td>\n",
       "      <td>4812</td>\n",
       "      <td>1</td>\n",
       "      <td>32.067984</td>\n",
       "      <td>104.0</td>\n",
       "      <td>22</td>\n",
       "      <td>0</td>\n",
       "      <td>Monday</td>\n",
       "      <td>4</td>\n",
       "    </tr>\n",
       "    <tr>\n",
       "      <th>2</th>\n",
       "      <td>++1XMtcwMec=</td>\n",
       "      <td>2016-09-24 17:45:25</td>\n",
       "      <td>2016</td>\n",
       "      <td>9</td>\n",
       "      <td>24</td>\n",
       "      <td>17</td>\n",
       "      <td>LIMA</td>\n",
       "      <td>LIMA</td>\n",
       "      <td>San Juan De Luriganc</td>\n",
       "      <td>8</td>\n",
       "      <td>Retail Outlet Services</td>\n",
       "      <td>5533</td>\n",
       "      <td>1</td>\n",
       "      <td>55.502280</td>\n",
       "      <td>180.0</td>\n",
       "      <td>38</td>\n",
       "      <td>5</td>\n",
       "      <td>Saturday</td>\n",
       "      <td>3</td>\n",
       "    </tr>\n",
       "  </tbody>\n",
       "</table>\n",
       "</div>"
      ],
      "text/plain": [
       "      client_id                date   año  mes  dia  hora  \\\n",
       "0  +++g8j9k+5A= 2016-07-07 01:08:05  2016    7    7     1   \n",
       "1  ++/oQ9Lb9dI= 2017-05-29 21:05:40  2017    5   29    21   \n",
       "2  ++1XMtcwMec= 2016-09-24 17:45:25  2016    9   24    17   \n",
       "\n",
       "  merchant_departement merchant_province     merchant_district  mccg  \\\n",
       "0                 LIMA              LIMA  San Juan De Luriganc     9   \n",
       "1                 LIMA              LIMA  San Juan De Luriganc     7   \n",
       "2                 LIMA              LIMA  San Juan De Luriganc     8   \n",
       "\n",
       "                mccg_name   mcc  quantity  amount_usd  amount_sol  week  \\\n",
       "0         Clothing Stores  5655         1   13.875570        45.0    27   \n",
       "1        Utility Services  4812         1   32.067984       104.0    22   \n",
       "2  Retail Outlet Services  5533         1   55.502280       180.0    38   \n",
       "\n",
       "   weekday       day  turn  \n",
       "0        3  Thursday     1  \n",
       "1        0    Monday     4  \n",
       "2        5  Saturday     3  "
      ]
     },
     "execution_count": 4,
     "metadata": {},
     "output_type": "execute_result"
    }
   ],
   "source": [
    "session.head(3)"
   ]
  },
  {
   "cell_type": "code",
   "execution_count": 5,
   "metadata": {},
   "outputs": [
    {
     "name": "stdout",
     "output_type": "stream",
     "text": [
      "User quantity: 175118\n",
      "      client_id                date   año  mes  dia  hora  \\\n",
      "0  +++g8j9k+5A= 2016-07-07 01:08:05  2016    7    7     1   \n",
      "1  ++/oQ9Lb9dI= 2017-05-29 21:05:40  2017    5   29    21   \n",
      "2  ++1XMtcwMec= 2016-09-24 17:45:25  2016    9   24    17   \n",
      "3  ++5u+heOZ8o= 2016-10-25 14:47:23  2016   10   25    14   \n",
      "4  ++5u+heOZ8o= 2016-10-25 14:53:47  2016   10   25    14   \n",
      "\n",
      "  merchant_departement merchant_province     merchant_district  mccg  \\\n",
      "0                 LIMA              LIMA  San Juan De Luriganc     9   \n",
      "1                 LIMA              LIMA  San Juan De Luriganc     7   \n",
      "2                 LIMA              LIMA  San Juan De Luriganc     8   \n",
      "3                 LIMA              LIMA  San Juan De Luriganc     8   \n",
      "4                 LIMA              LIMA  San Juan De Luriganc     8   \n",
      "\n",
      "                mccg_name   mcc  quantity  amount_usd  amount_sol  week  \\\n",
      "0         Clothing Stores  5655         1   13.875570       45.00    27   \n",
      "1        Utility Services  4812         1   32.067984      104.00    22   \n",
      "2  Retail Outlet Services  5533         1   55.502280      180.00    38   \n",
      "3  Retail Outlet Services  5541         1   16.468760       53.41    43   \n",
      "4  Retail Outlet Services  5541         1   12.330757       39.99    43   \n",
      "\n",
      "   weekday       day  turn  \n",
      "0        3  Thursday     1  \n",
      "1        0    Monday     4  \n",
      "2        5  Saturday     3  \n",
      "3        1   Tuesday     3  \n",
      "4        1   Tuesday     3  \n"
     ]
    },
    {
     "ename": "KeyError",
     "evalue": "'client_id'",
     "output_type": "error",
     "traceback": [
      "\u001b[1;31m---------------------------------------------------------------------------\u001b[0m",
      "\u001b[1;31mRemoteTraceback\u001b[0m                           Traceback (most recent call last)",
      "\u001b[1;31mRemoteTraceback\u001b[0m: \n\"\"\"\nTraceback (most recent call last):\n  File \"C:\\Users\\JKN\\Anaconda3\\lib\\site-packages\\pandas\\core\\indexes\\base.py\", line 2895, in get_loc\n    return self._engine.get_loc(casted_key)\n  File \"pandas\\_libs\\index.pyx\", line 70, in pandas._libs.index.IndexEngine.get_loc\n  File \"pandas\\_libs\\index.pyx\", line 101, in pandas._libs.index.IndexEngine.get_loc\n  File \"pandas\\_libs\\hashtable_class_helper.pxi\", line 1675, in pandas._libs.hashtable.PyObjectHashTable.get_item\n  File \"pandas\\_libs\\hashtable_class_helper.pxi\", line 1683, in pandas._libs.hashtable.PyObjectHashTable.get_item\nKeyError: 'client_id'\n\nThe above exception was the direct cause of the following exception:\n\nTraceback (most recent call last):\n  File \"C:\\Users\\JKN\\Anaconda3\\lib\\multiprocessing\\pool.py\", line 125, in worker\n    result = (True, func(*args, **kwds))\n  File \"C:\\Users\\JKN\\Anaconda3\\lib\\multiprocessing\\pool.py\", line 48, in mapstar\n    return list(map(*args))\n  File \"C:\\Users\\JKN\\Documents\\Proyectos\\tesis_jkn\\behavior_patterns/src\\load_data.py\", line 91, in footprint_user\n    user_data = data[data['client_id'] == user]\n  File \"C:\\Users\\JKN\\Anaconda3\\lib\\site-packages\\pandas\\core\\frame.py\", line 2902, in __getitem__\n    indexer = self.columns.get_loc(key)\n  File \"C:\\Users\\JKN\\Anaconda3\\lib\\site-packages\\pandas\\core\\indexes\\base.py\", line 2897, in get_loc\n    raise KeyError(key) from err\nKeyError: 'client_id'\n\"\"\"",
      "\nThe above exception was the direct cause of the following exception:\n",
      "\u001b[1;31mKeyError\u001b[0m                                  Traceback (most recent call last)",
      "\u001b[1;32m<ipython-input-5-f016971c6a8b>\u001b[0m in \u001b[0;36m<module>\u001b[1;34m\u001b[0m\n\u001b[1;32m----> 1\u001b[1;33m \u001b[0mfootprints\u001b[0m \u001b[1;33m=\u001b[0m \u001b[0mdata_loader\u001b[0m\u001b[1;33m.\u001b[0m\u001b[0mfootprints\u001b[0m\u001b[1;33m(\u001b[0m\u001b[0mfont\u001b[0m\u001b[1;33m=\u001b[0m\u001b[0mto_read\u001b[0m\u001b[1;33m)\u001b[0m\u001b[1;33m\u001b[0m\u001b[1;33m\u001b[0m\u001b[0m\n\u001b[0m",
      "\u001b[1;32m~\\Documents\\Proyectos\\tesis_jkn\\behavior_patterns/src\\load_data.py\u001b[0m in \u001b[0;36mfootprints\u001b[1;34m(font)\u001b[0m\n\u001b[0;32m     56\u001b[0m \u001b[1;33m\u001b[0m\u001b[0m\n\u001b[0;32m     57\u001b[0m     \u001b[1;32mif\u001b[0m \u001b[0mfont\u001b[0m \u001b[1;33m==\u001b[0m \u001b[1;34m'bank_trx'\u001b[0m\u001b[1;33m:\u001b[0m\u001b[1;33m\u001b[0m\u001b[1;33m\u001b[0m\u001b[0m\n\u001b[1;32m---> 58\u001b[1;33m         \u001b[0mfootprints_data\u001b[0m \u001b[1;33m=\u001b[0m \u001b[0mfootprint_bank_transactions\u001b[0m\u001b[1;33m(\u001b[0m\u001b[0mdata\u001b[0m\u001b[1;33m=\u001b[0m\u001b[0mglobal_session\u001b[0m\u001b[1;33m)\u001b[0m\u001b[1;33m\u001b[0m\u001b[1;33m\u001b[0m\u001b[0m\n\u001b[0m\u001b[0;32m     59\u001b[0m \u001b[1;33m\u001b[0m\u001b[0m\n\u001b[0;32m     60\u001b[0m         \u001b[1;32mreturn\u001b[0m \u001b[0mfootprints_data\u001b[0m\u001b[1;33m\u001b[0m\u001b[1;33m\u001b[0m\u001b[0m\n",
      "\u001b[1;32m~\\Documents\\Proyectos\\tesis_jkn\\behavior_patterns/src\\load_data.py\u001b[0m in \u001b[0;36mfootprint_bank_transactions\u001b[1;34m(data)\u001b[0m\n\u001b[0;32m     74\u001b[0m     \u001b[0mprint\u001b[0m\u001b[1;33m(\u001b[0m\u001b[0mglobal_session\u001b[0m\u001b[1;33m.\u001b[0m\u001b[0mhead\u001b[0m\u001b[1;33m(\u001b[0m\u001b[1;33m)\u001b[0m\u001b[1;33m)\u001b[0m\u001b[1;33m\u001b[0m\u001b[1;33m\u001b[0m\u001b[0m\n\u001b[0;32m     75\u001b[0m     \u001b[1;32mwith\u001b[0m \u001b[0mPool\u001b[0m\u001b[1;33m(\u001b[0m\u001b[1;36m20\u001b[0m\u001b[1;33m)\u001b[0m \u001b[1;32mas\u001b[0m \u001b[0mpool\u001b[0m\u001b[1;33m:\u001b[0m\u001b[1;33m\u001b[0m\u001b[1;33m\u001b[0m\u001b[0m\n\u001b[1;32m---> 76\u001b[1;33m         \u001b[0mresp_pool\u001b[0m \u001b[1;33m=\u001b[0m \u001b[0mpool\u001b[0m\u001b[1;33m.\u001b[0m\u001b[0mmap\u001b[0m\u001b[1;33m(\u001b[0m\u001b[0mfootprint_user\u001b[0m\u001b[1;33m,\u001b[0m \u001b[0musers\u001b[0m\u001b[1;33m)\u001b[0m\u001b[1;33m\u001b[0m\u001b[1;33m\u001b[0m\u001b[0m\n\u001b[0m\u001b[0;32m     77\u001b[0m \u001b[1;33m\u001b[0m\u001b[0m\n\u001b[0;32m     78\u001b[0m     \u001b[0mprofiles\u001b[0m \u001b[1;33m=\u001b[0m \u001b[1;33m{\u001b[0m\u001b[1;33m}\u001b[0m\u001b[1;33m\u001b[0m\u001b[1;33m\u001b[0m\u001b[0m\n",
      "\u001b[1;32m~\\Anaconda3\\lib\\multiprocessing\\pool.py\u001b[0m in \u001b[0;36mmap\u001b[1;34m(self, func, iterable, chunksize)\u001b[0m\n\u001b[0;32m    362\u001b[0m         \u001b[1;32min\u001b[0m \u001b[0ma\u001b[0m \u001b[0mlist\u001b[0m \u001b[0mthat\u001b[0m \u001b[1;32mis\u001b[0m \u001b[0mreturned\u001b[0m\u001b[1;33m.\u001b[0m\u001b[1;33m\u001b[0m\u001b[1;33m\u001b[0m\u001b[0m\n\u001b[0;32m    363\u001b[0m         '''\n\u001b[1;32m--> 364\u001b[1;33m         \u001b[1;32mreturn\u001b[0m \u001b[0mself\u001b[0m\u001b[1;33m.\u001b[0m\u001b[0m_map_async\u001b[0m\u001b[1;33m(\u001b[0m\u001b[0mfunc\u001b[0m\u001b[1;33m,\u001b[0m \u001b[0miterable\u001b[0m\u001b[1;33m,\u001b[0m \u001b[0mmapstar\u001b[0m\u001b[1;33m,\u001b[0m \u001b[0mchunksize\u001b[0m\u001b[1;33m)\u001b[0m\u001b[1;33m.\u001b[0m\u001b[0mget\u001b[0m\u001b[1;33m(\u001b[0m\u001b[1;33m)\u001b[0m\u001b[1;33m\u001b[0m\u001b[1;33m\u001b[0m\u001b[0m\n\u001b[0m\u001b[0;32m    365\u001b[0m \u001b[1;33m\u001b[0m\u001b[0m\n\u001b[0;32m    366\u001b[0m     \u001b[1;32mdef\u001b[0m \u001b[0mstarmap\u001b[0m\u001b[1;33m(\u001b[0m\u001b[0mself\u001b[0m\u001b[1;33m,\u001b[0m \u001b[0mfunc\u001b[0m\u001b[1;33m,\u001b[0m \u001b[0miterable\u001b[0m\u001b[1;33m,\u001b[0m \u001b[0mchunksize\u001b[0m\u001b[1;33m=\u001b[0m\u001b[1;32mNone\u001b[0m\u001b[1;33m)\u001b[0m\u001b[1;33m:\u001b[0m\u001b[1;33m\u001b[0m\u001b[1;33m\u001b[0m\u001b[0m\n",
      "\u001b[1;32m~\\Anaconda3\\lib\\multiprocessing\\pool.py\u001b[0m in \u001b[0;36mget\u001b[1;34m(self, timeout)\u001b[0m\n\u001b[0;32m    769\u001b[0m             \u001b[1;32mreturn\u001b[0m \u001b[0mself\u001b[0m\u001b[1;33m.\u001b[0m\u001b[0m_value\u001b[0m\u001b[1;33m\u001b[0m\u001b[1;33m\u001b[0m\u001b[0m\n\u001b[0;32m    770\u001b[0m         \u001b[1;32melse\u001b[0m\u001b[1;33m:\u001b[0m\u001b[1;33m\u001b[0m\u001b[1;33m\u001b[0m\u001b[0m\n\u001b[1;32m--> 771\u001b[1;33m             \u001b[1;32mraise\u001b[0m \u001b[0mself\u001b[0m\u001b[1;33m.\u001b[0m\u001b[0m_value\u001b[0m\u001b[1;33m\u001b[0m\u001b[1;33m\u001b[0m\u001b[0m\n\u001b[0m\u001b[0;32m    772\u001b[0m \u001b[1;33m\u001b[0m\u001b[0m\n\u001b[0;32m    773\u001b[0m     \u001b[1;32mdef\u001b[0m \u001b[0m_set\u001b[0m\u001b[1;33m(\u001b[0m\u001b[0mself\u001b[0m\u001b[1;33m,\u001b[0m \u001b[0mi\u001b[0m\u001b[1;33m,\u001b[0m \u001b[0mobj\u001b[0m\u001b[1;33m)\u001b[0m\u001b[1;33m:\u001b[0m\u001b[1;33m\u001b[0m\u001b[1;33m\u001b[0m\u001b[0m\n",
      "\u001b[1;31mKeyError\u001b[0m: 'client_id'"
     ]
    }
   ],
   "source": [
    "footprints = data_loader.footprints(font=to_read)"
   ]
  },
  {
   "cell_type": "code",
   "execution_count": null,
   "metadata": {},
   "outputs": [],
   "source": [
    "footprints.head()"
   ]
  },
  {
   "cell_type": "code",
   "execution_count": null,
   "metadata": {},
   "outputs": [],
   "source": [
    "global_session"
   ]
  },
  {
   "cell_type": "code",
   "execution_count": null,
   "metadata": {},
   "outputs": [],
   "source": [
    "global data\n",
    "data=session"
   ]
  },
  {
   "cell_type": "code",
   "execution_count": null,
   "metadata": {},
   "outputs": [],
   "source": []
  },
  {
   "cell_type": "code",
   "execution_count": null,
   "metadata": {},
   "outputs": [],
   "source": [
    "    \n",
    "    def time_window(hora):\n",
    "        tw = -1\n",
    "        if hora >=0:\n",
    "            tw = 1       # Madrugada\n",
    "        if hora >=6:\n",
    "            tw = 2      # Mañana\n",
    "        if hora >=12:\n",
    "            tw = 3      # Tarde\n",
    "        if hora >=18:\n",
    "            tw = 4      # Noche\n",
    "        return tw   \n",
    "    \n",
    "    data['date'] = pd.to_datetime(data['date'])\n",
    "    data['week'] = data['date'].dt.week\n",
    "    data['weekday'] = data['date'].dt.weekday\n",
    "    data['day'] = data['date'].dt.day_name()\n",
    "    data['turn'] = data.apply(lambda row: time_window(row[5]), axis=1)\n",
    "    \n",
    "   "
   ]
  },
  {
   "cell_type": "code",
   "execution_count": null,
   "metadata": {},
   "outputs": [],
   "source": [
    "users = list(np.unique(data['client_id']))\n",
    "print('User quantity:',len(users))"
   ]
  },
  {
   "cell_type": "code",
   "execution_count": null,
   "metadata": {},
   "outputs": [],
   "source": [
    "data.head()"
   ]
  },
  {
   "cell_type": "raw",
   "metadata": {},
   "source": [
    "contador = 0 \n",
    "por_avance = 0\n",
    "divisor = int(len(users) / 10)\n",
    "print(\"Number of clients \"+str(len(users)))\n",
    "\n",
    "for user in users[0:10]:\n",
    "    #user_i= data[data['client_id'] == user]       # filtramos dataset solo para el cliente i\n",
    "    footprint_user(user, data)\n",
    "    contador += 1\n",
    "    if contador % divisor == 1:\n",
    "        # print(\"vamos en el \",contador)\n",
    "        print(\"==> \",por_avance,\"%\")\n",
    "        por_avance += 10\n",
    "        "
   ]
  },
  {
   "cell_type": "code",
   "execution_count": null,
   "metadata": {},
   "outputs": [],
   "source": [
    "#from multiprocess import Pool\n",
    "import multiprocessing as multi_proc\n",
    "from multiprocessing import Pool"
   ]
  },
  {
   "cell_type": "code",
   "execution_count": null,
   "metadata": {},
   "outputs": [],
   "source": [
    "with Pool(20) as pool:\n",
    "    resp_pool = pool.map(footprint_user, users[0:100])  "
   ]
  },
  {
   "cell_type": "code",
   "execution_count": null,
   "metadata": {},
   "outputs": [],
   "source": []
  }
 ],
 "metadata": {
  "kernelspec": {
   "display_name": "Python 3",
   "language": "python",
   "name": "python3"
  },
  "language_info": {
   "codemirror_mode": {
    "name": "ipython",
    "version": 3
   },
   "file_extension": ".py",
   "mimetype": "text/x-python",
   "name": "python",
   "nbconvert_exporter": "python",
   "pygments_lexer": "ipython3",
   "version": "3.8.5"
  }
 },
 "nbformat": 4,
 "nbformat_minor": 4
}
