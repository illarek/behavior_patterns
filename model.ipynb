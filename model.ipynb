{
 "cells": [
  {
   "cell_type": "markdown",
   "metadata": {},
   "source": [
    "# Perfiles de comportamientio y minado de patrones"
   ]
  },
  {
   "cell_type": "code",
   "execution_count": 1,
   "metadata": {},
   "outputs": [],
   "source": [
    "import numpy as np\n",
    "import datetime\n",
    "from datetime import date\n",
    "import json\n",
    "import pylab\n",
    "import pandas as pd\n",
    "import matplotlib.pyplot as plt\n",
    "import os, sys, logging, warnings, time"
   ]
  },
  {
   "cell_type": "code",
   "execution_count": 2,
   "metadata": {},
   "outputs": [],
   "source": [
    "sys.path.append(os.path.join(os.path.dirname(os.getcwd()), \"behavior_patterns/src/\"))\n",
    "import load_data as data_loader"
   ]
  },
  {
   "cell_type": "markdown",
   "metadata": {},
   "source": [
    "## Contruccion de \"FootPrints\"\n",
    "\n",
    "En esta etapa contruiremos los \"footprints\" basicos (tensores dimesionales) de cada cliente a partir de sus datos transaccionales, la dimesiones del footprint son elegidas por el usuario, nosotros tenemos los siguientes casos de estudio:"
   ]
  },
  {
   "cell_type": "markdown",
   "metadata": {},
   "source": [
    "**Datos de bancarios**:\n",
    " - Sesion de TX\n",
    "   - s = {cliente, timestamp, Monto}  \n",
    " - Cada cliente tiene una secuencia de sesiones de TX (S)\n",
    "    - S = { s1, s2 , s3, ..., sn}                n: # de sesiones de cada cliente\n",
    "\n",
    "**Datos mobiles**:\n",
    " - Sesion de TX\n",
    "   - s = {cliente, timestamp, Monto}  \n",
    " - Cada cliente tiene una secuencia de sesiones de TX (S)\n",
    "    - S = { s1, s2 , s3, ..., sn}    "
   ]
  },
  {
   "cell_type": "code",
   "execution_count": 3,
   "metadata": {},
   "outputs": [],
   "source": [
    "to_read = 'bank_trx' \n",
    "session = data_loader.read_data(font=to_read)"
   ]
  },
  {
   "cell_type": "code",
   "execution_count": null,
   "metadata": {},
   "outputs": [],
   "source": []
  },
  {
   "cell_type": "code",
   "execution_count": 4,
   "metadata": {},
   "outputs": [
    {
     "name": "stderr",
     "output_type": "stream",
     "text": [
      "C:\\Users\\JKN\\Documents\\Proyectos\\tesis_jkn\\behavior_patterns/src\\load_data.py:56: FutureWarning: Series.dt.weekofyear and Series.dt.week have been deprecated.  Please use Series.dt.isocalendar().week instead.\n",
      "  data['week'] = data['date'].dt.week\n"
     ]
    }
   ],
   "source": [
    "footprints = data_loader.footprints(font=to_read)"
   ]
  },
  {
   "cell_type": "code",
   "execution_count": 5,
   "metadata": {},
   "outputs": [
    {
     "data": {
      "text/html": [
       "<div>\n",
       "<style scoped>\n",
       "    .dataframe tbody tr th:only-of-type {\n",
       "        vertical-align: middle;\n",
       "    }\n",
       "\n",
       "    .dataframe tbody tr th {\n",
       "        vertical-align: top;\n",
       "    }\n",
       "\n",
       "    .dataframe thead th {\n",
       "        text-align: right;\n",
       "    }\n",
       "</style>\n",
       "<table border=\"1\" class=\"dataframe\">\n",
       "  <thead>\n",
       "    <tr style=\"text-align: right;\">\n",
       "      <th></th>\n",
       "      <th>client_id</th>\n",
       "      <th>date</th>\n",
       "      <th>año</th>\n",
       "      <th>mes</th>\n",
       "      <th>dia</th>\n",
       "      <th>hora</th>\n",
       "      <th>merchant_departement</th>\n",
       "      <th>merchant_province</th>\n",
       "      <th>merchant_district</th>\n",
       "      <th>mccg</th>\n",
       "      <th>mccg_name</th>\n",
       "      <th>mcc</th>\n",
       "      <th>quantity</th>\n",
       "      <th>amount_usd</th>\n",
       "      <th>amount_sol</th>\n",
       "      <th>week</th>\n",
       "      <th>turn</th>\n",
       "    </tr>\n",
       "  </thead>\n",
       "  <tbody>\n",
       "    <tr>\n",
       "      <th>0</th>\n",
       "      <td>+++g8j9k+5A=</td>\n",
       "      <td>2016-07-07 01:08:05</td>\n",
       "      <td>2016</td>\n",
       "      <td>7</td>\n",
       "      <td>7</td>\n",
       "      <td>1</td>\n",
       "      <td>LIMA</td>\n",
       "      <td>LIMA</td>\n",
       "      <td>San Juan De Luriganc</td>\n",
       "      <td>9</td>\n",
       "      <td>Clothing Stores</td>\n",
       "      <td>5655</td>\n",
       "      <td>1</td>\n",
       "      <td>13.875570</td>\n",
       "      <td>45.00</td>\n",
       "      <td>27</td>\n",
       "      <td>0</td>\n",
       "    </tr>\n",
       "    <tr>\n",
       "      <th>1</th>\n",
       "      <td>++/oQ9Lb9dI=</td>\n",
       "      <td>2017-05-29 21:05:40</td>\n",
       "      <td>2017</td>\n",
       "      <td>5</td>\n",
       "      <td>29</td>\n",
       "      <td>21</td>\n",
       "      <td>LIMA</td>\n",
       "      <td>LIMA</td>\n",
       "      <td>San Juan De Luriganc</td>\n",
       "      <td>7</td>\n",
       "      <td>Utility Services</td>\n",
       "      <td>4812</td>\n",
       "      <td>1</td>\n",
       "      <td>32.067984</td>\n",
       "      <td>104.00</td>\n",
       "      <td>22</td>\n",
       "      <td>3</td>\n",
       "    </tr>\n",
       "    <tr>\n",
       "      <th>2</th>\n",
       "      <td>++1XMtcwMec=</td>\n",
       "      <td>2016-09-24 17:45:25</td>\n",
       "      <td>2016</td>\n",
       "      <td>9</td>\n",
       "      <td>24</td>\n",
       "      <td>17</td>\n",
       "      <td>LIMA</td>\n",
       "      <td>LIMA</td>\n",
       "      <td>San Juan De Luriganc</td>\n",
       "      <td>8</td>\n",
       "      <td>Retail Outlet Services</td>\n",
       "      <td>5533</td>\n",
       "      <td>1</td>\n",
       "      <td>55.502280</td>\n",
       "      <td>180.00</td>\n",
       "      <td>38</td>\n",
       "      <td>2</td>\n",
       "    </tr>\n",
       "    <tr>\n",
       "      <th>3</th>\n",
       "      <td>++5u+heOZ8o=</td>\n",
       "      <td>2016-10-25 14:47:23</td>\n",
       "      <td>2016</td>\n",
       "      <td>10</td>\n",
       "      <td>25</td>\n",
       "      <td>14</td>\n",
       "      <td>LIMA</td>\n",
       "      <td>LIMA</td>\n",
       "      <td>San Juan De Luriganc</td>\n",
       "      <td>8</td>\n",
       "      <td>Retail Outlet Services</td>\n",
       "      <td>5541</td>\n",
       "      <td>1</td>\n",
       "      <td>16.468760</td>\n",
       "      <td>53.41</td>\n",
       "      <td>43</td>\n",
       "      <td>2</td>\n",
       "    </tr>\n",
       "    <tr>\n",
       "      <th>4</th>\n",
       "      <td>++5u+heOZ8o=</td>\n",
       "      <td>2016-10-25 14:53:47</td>\n",
       "      <td>2016</td>\n",
       "      <td>10</td>\n",
       "      <td>25</td>\n",
       "      <td>14</td>\n",
       "      <td>LIMA</td>\n",
       "      <td>LIMA</td>\n",
       "      <td>San Juan De Luriganc</td>\n",
       "      <td>8</td>\n",
       "      <td>Retail Outlet Services</td>\n",
       "      <td>5541</td>\n",
       "      <td>1</td>\n",
       "      <td>12.330757</td>\n",
       "      <td>39.99</td>\n",
       "      <td>43</td>\n",
       "      <td>2</td>\n",
       "    </tr>\n",
       "  </tbody>\n",
       "</table>\n",
       "</div>"
      ],
      "text/plain": [
       "      client_id                date   año  mes  dia  hora  \\\n",
       "0  +++g8j9k+5A= 2016-07-07 01:08:05  2016    7    7     1   \n",
       "1  ++/oQ9Lb9dI= 2017-05-29 21:05:40  2017    5   29    21   \n",
       "2  ++1XMtcwMec= 2016-09-24 17:45:25  2016    9   24    17   \n",
       "3  ++5u+heOZ8o= 2016-10-25 14:47:23  2016   10   25    14   \n",
       "4  ++5u+heOZ8o= 2016-10-25 14:53:47  2016   10   25    14   \n",
       "\n",
       "  merchant_departement merchant_province     merchant_district  mccg  \\\n",
       "0                 LIMA              LIMA  San Juan De Luriganc     9   \n",
       "1                 LIMA              LIMA  San Juan De Luriganc     7   \n",
       "2                 LIMA              LIMA  San Juan De Luriganc     8   \n",
       "3                 LIMA              LIMA  San Juan De Luriganc     8   \n",
       "4                 LIMA              LIMA  San Juan De Luriganc     8   \n",
       "\n",
       "                mccg_name   mcc  quantity  amount_usd  amount_sol  week  turn  \n",
       "0         Clothing Stores  5655         1   13.875570       45.00    27     0  \n",
       "1        Utility Services  4812         1   32.067984      104.00    22     3  \n",
       "2  Retail Outlet Services  5533         1   55.502280      180.00    38     2  \n",
       "3  Retail Outlet Services  5541         1   16.468760       53.41    43     2  \n",
       "4  Retail Outlet Services  5541         1   12.330757       39.99    43     2  "
      ]
     },
     "execution_count": 5,
     "metadata": {},
     "output_type": "execute_result"
    }
   ],
   "source": [
    "footprints.head()"
   ]
  },
  {
   "cell_type": "code",
   "execution_count": null,
   "metadata": {},
   "outputs": [],
   "source": []
  },
  {
   "cell_type": "code",
   "execution_count": 10,
   "metadata": {},
   "outputs": [],
   "source": [
    "data=session"
   ]
  },
  {
   "cell_type": "code",
   "execution_count": null,
   "metadata": {},
   "outputs": [],
   "source": []
  },
  {
   "cell_type": "code",
   "execution_count": 7,
   "metadata": {},
   "outputs": [
    {
     "name": "stderr",
     "output_type": "stream",
     "text": [
      "<ipython-input-7-48b8b9a8880d>:2: FutureWarning: Series.dt.weekofyear and Series.dt.week have been deprecated.  Please use Series.dt.isocalendar().week instead.\n",
      "  data['week'] = data['date'].dt.week\n"
     ]
    }
   ],
   "source": [
    "    \n",
    "    def time_window(hora):\n",
    "        tw = -1\n",
    "        if hora >=0:\n",
    "            tw = 1       # Madrugada\n",
    "        if hora >=6:\n",
    "            tw = 2      # Mañana\n",
    "        if hora >=12:\n",
    "            tw = 3      # Tarde\n",
    "        if hora >=18:\n",
    "            tw = 4      # Noche\n",
    "        return tw   \n",
    "    \n",
    "    data['date'] = pd.to_datetime(data['date'])\n",
    "    data['week'] = data['date'].dt.week\n",
    "    data['turn'] = data.apply(lambda row: time_window(row[5]), axis=1)\n",
    "    \n",
    "   "
   ]
  },
  {
   "cell_type": "code",
   "execution_count": 16,
   "metadata": {},
   "outputs": [
    {
     "name": "stdout",
     "output_type": "stream",
     "text": [
      "User quantity: 175118\n"
     ]
    }
   ],
   "source": [
    "users = list(np.unique(data['client_id']))\n",
    "print('User quantity:',len(users))"
   ]
  },
  {
   "cell_type": "code",
   "execution_count": null,
   "metadata": {},
   "outputs": [],
   "source": []
  },
  {
   "cell_type": "code",
   "execution_count": null,
   "metadata": {},
   "outputs": [],
   "source": []
  },
  {
   "cell_type": "code",
   "execution_count": null,
   "metadata": {},
   "outputs": [],
   "source": []
  },
  {
   "cell_type": "code",
   "execution_count": null,
   "metadata": {},
   "outputs": [],
   "source": []
  },
  {
   "cell_type": "code",
   "execution_count": null,
   "metadata": {},
   "outputs": [],
   "source": []
  },
  {
   "cell_type": "code",
   "execution_count": null,
   "metadata": {},
   "outputs": [],
   "source": []
  },
  {
   "cell_type": "code",
   "execution_count": null,
   "metadata": {},
   "outputs": [],
   "source": []
  }
 ],
 "metadata": {
  "kernelspec": {
   "display_name": "Python 3",
   "language": "python",
   "name": "python3"
  },
  "language_info": {
   "codemirror_mode": {
    "name": "ipython",
    "version": 3
   },
   "file_extension": ".py",
   "mimetype": "text/x-python",
   "name": "python",
   "nbconvert_exporter": "python",
   "pygments_lexer": "ipython3",
   "version": "3.8.5"
  }
 },
 "nbformat": 4,
 "nbformat_minor": 4
}
