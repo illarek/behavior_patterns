{
 "cells": [
  {
   "cell_type": "markdown",
   "metadata": {},
   "source": [
    "# Perfiles de comportamientio y minado de patrones"
   ]
  },
  {
   "cell_type": "code",
   "execution_count": 4,
   "metadata": {},
   "outputs": [],
   "source": [
    "import numpy as np\n",
    "import datetime\n",
    "from datetime import date\n",
    "import json\n",
    "import pylab\n",
    "import pandas as pd\n",
    "import matplotlib.pyplot as plt\n",
    "import os, sys"
   ]
  },
  {
   "cell_type": "markdown",
   "metadata": {},
   "source": [
    "## Contruccion de \"FootPrints\"\n",
    "\n",
    "En esta etapa contruiremos los \"footprints\" basicos (tensores dimesionales) de cada cliente a partir de sus datos transaccionales, la dimesiones del footprint son elegidas por el usuario, nosotros tenemos los siguientes casos de estudio:"
   ]
  },
  {
   "cell_type": "markdown",
   "metadata": {},
   "source": [
    "**Datos de bancarios**:\n",
    " - Sesion de TX\n",
    "   - s = {cliente, timestamp, Monto}  \n",
    " - Cada cliente tiene una secuencia de sesiones de TX (S)\n",
    "    - S = { s1, s2 , s3, ..., sn}                n: # de sesiones de cada cliente\n",
    "\n",
    "**Datos mobiles**:\n",
    " - Sesion de TX\n",
    "   - s = {cliente, timestamp, Monto}  \n",
    " - Cada cliente tiene una secuencia de sesiones de TX (S)\n",
    "    - S = { s1, s2 , s3, ..., sn}    "
   ]
  },
  {
   "cell_type": "code",
   "execution_count": 5,
   "metadata": {},
   "outputs": [
    {
     "data": {
      "text/plain": [
       "9"
      ]
     },
     "execution_count": 5,
     "metadata": {},
     "output_type": "execute_result"
    }
   ],
   "source": [
    "4+5"
   ]
  },
  {
   "cell_type": "code",
   "execution_count": null,
   "metadata": {},
   "outputs": [],
   "source": []
  }
 ],
 "metadata": {
  "kernelspec": {
   "display_name": "Python 3",
   "language": "python",
   "name": "python3"
  },
  "language_info": {
   "name": ""
  }
 },
 "nbformat": 4,
 "nbformat_minor": 4
}
