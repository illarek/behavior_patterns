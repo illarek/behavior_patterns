{
 "cells": [
  {
   "cell_type": "markdown",
   "metadata": {},
   "source": [
    "# Perfiles de comportamiento y minado de patrones"
   ]
  },
  {
   "cell_type": "code",
   "execution_count": 1,
   "metadata": {},
   "outputs": [],
   "source": [
    "import numpy as np\n",
    "import datetime\n",
    "from datetime import date\n",
    "import json\n",
    "import pylab\n",
    "import pandas as pd\n",
    "import matplotlib.pyplot as plt\n",
    "import os, sys, logging, warnings, time"
   ]
  },
  {
   "cell_type": "code",
   "execution_count": 2,
   "metadata": {},
   "outputs": [],
   "source": [
    "sys.path.append(os.path.join(os.path.dirname(os.getcwd()), \"behavior_patterns/src/\"))\n",
    "import profile_builder as profile_manager"
   ]
  },
  {
   "cell_type": "markdown",
   "metadata": {},
   "source": [
    "## Contruccion de \"Footprints\"\n",
    "\n",
    "En esta etapa contruiremos los \"footprints\" basicos (tensores dimesionales) de cada cliente a partir de sus datos transaccionales, la dimesiones del footprint son elegidas por el usuario, nosotros tenemos los siguientes casos de estudio:"
   ]
  },
  {
   "cell_type": "markdown",
   "metadata": {},
   "source": [
    "**Datos de bancarios**:\n",
    " - Sesion de TX\n",
    "   - s = {cliente, timestamp, Monto}  \n",
    " - Cada cliente tiene una secuencia de sesiones de TX (S)\n",
    "    - S = { s1, s2 , s3, ..., sn}                n: # de sesiones de cada cliente\n",
    "\n",
    "**Datos mobiles**:\n",
    " - Sesion de TX\n",
    "   - s = {cliente, timestamp, Monto}  \n",
    " - Cada cliente tiene una secuencia de sesiones de TX (S)\n",
    "    - S = { s1, s2 , s3, ..., sn}    "
   ]
  },
  {
   "cell_type": "code",
   "execution_count": 3,
   "metadata": {},
   "outputs": [],
   "source": [
    "to_read = 'bank_trx' "
   ]
  },
  {
   "cell_type": "code",
   "execution_count": 4,
   "metadata": {},
   "outputs": [
    {
     "data": {
      "text/html": [
       "<div>\n",
       "<style scoped>\n",
       "    .dataframe tbody tr th:only-of-type {\n",
       "        vertical-align: middle;\n",
       "    }\n",
       "\n",
       "    .dataframe tbody tr th {\n",
       "        vertical-align: top;\n",
       "    }\n",
       "\n",
       "    .dataframe thead th {\n",
       "        text-align: right;\n",
       "    }\n",
       "</style>\n",
       "<table border=\"1\" class=\"dataframe\">\n",
       "  <thead>\n",
       "    <tr style=\"text-align: right;\">\n",
       "      <th></th>\n",
       "      <th>client_id</th>\n",
       "      <th>date</th>\n",
       "      <th>año</th>\n",
       "      <th>mes</th>\n",
       "      <th>dia</th>\n",
       "      <th>hora</th>\n",
       "      <th>merchant_departement</th>\n",
       "      <th>merchant_province</th>\n",
       "      <th>merchant_district</th>\n",
       "      <th>mccg</th>\n",
       "      <th>mccg_name</th>\n",
       "      <th>mcc</th>\n",
       "      <th>quantity</th>\n",
       "      <th>amount_usd</th>\n",
       "      <th>amount_sol</th>\n",
       "      <th>week</th>\n",
       "      <th>weekday</th>\n",
       "      <th>day</th>\n",
       "      <th>turn</th>\n",
       "    </tr>\n",
       "  </thead>\n",
       "  <tbody>\n",
       "    <tr>\n",
       "      <th>0</th>\n",
       "      <td>+++g8j9k+5A=</td>\n",
       "      <td>2016-07-07 01:08:05</td>\n",
       "      <td>2016</td>\n",
       "      <td>7</td>\n",
       "      <td>7</td>\n",
       "      <td>1</td>\n",
       "      <td>LIMA</td>\n",
       "      <td>LIMA</td>\n",
       "      <td>San Juan De Luriganc</td>\n",
       "      <td>9</td>\n",
       "      <td>Clothing Stores</td>\n",
       "      <td>5655</td>\n",
       "      <td>1</td>\n",
       "      <td>13.875570</td>\n",
       "      <td>45.0</td>\n",
       "      <td>27</td>\n",
       "      <td>3</td>\n",
       "      <td>Thursday</td>\n",
       "      <td>1</td>\n",
       "    </tr>\n",
       "    <tr>\n",
       "      <th>1</th>\n",
       "      <td>++/oQ9Lb9dI=</td>\n",
       "      <td>2017-05-29 21:05:40</td>\n",
       "      <td>2017</td>\n",
       "      <td>5</td>\n",
       "      <td>29</td>\n",
       "      <td>21</td>\n",
       "      <td>LIMA</td>\n",
       "      <td>LIMA</td>\n",
       "      <td>San Juan De Luriganc</td>\n",
       "      <td>7</td>\n",
       "      <td>Utility Services</td>\n",
       "      <td>4812</td>\n",
       "      <td>1</td>\n",
       "      <td>32.067984</td>\n",
       "      <td>104.0</td>\n",
       "      <td>22</td>\n",
       "      <td>0</td>\n",
       "      <td>Monday</td>\n",
       "      <td>4</td>\n",
       "    </tr>\n",
       "    <tr>\n",
       "      <th>2</th>\n",
       "      <td>++1XMtcwMec=</td>\n",
       "      <td>2016-09-24 17:45:25</td>\n",
       "      <td>2016</td>\n",
       "      <td>9</td>\n",
       "      <td>24</td>\n",
       "      <td>17</td>\n",
       "      <td>LIMA</td>\n",
       "      <td>LIMA</td>\n",
       "      <td>San Juan De Luriganc</td>\n",
       "      <td>8</td>\n",
       "      <td>Retail Outlet Services</td>\n",
       "      <td>5533</td>\n",
       "      <td>1</td>\n",
       "      <td>55.502280</td>\n",
       "      <td>180.0</td>\n",
       "      <td>38</td>\n",
       "      <td>5</td>\n",
       "      <td>Saturday</td>\n",
       "      <td>3</td>\n",
       "    </tr>\n",
       "  </tbody>\n",
       "</table>\n",
       "</div>"
      ],
      "text/plain": [
       "      client_id                date   año  mes  dia  hora  \\\n",
       "0  +++g8j9k+5A= 2016-07-07 01:08:05  2016    7    7     1   \n",
       "1  ++/oQ9Lb9dI= 2017-05-29 21:05:40  2017    5   29    21   \n",
       "2  ++1XMtcwMec= 2016-09-24 17:45:25  2016    9   24    17   \n",
       "\n",
       "  merchant_departement merchant_province     merchant_district  mccg  \\\n",
       "0                 LIMA              LIMA  San Juan De Luriganc     9   \n",
       "1                 LIMA              LIMA  San Juan De Luriganc     7   \n",
       "2                 LIMA              LIMA  San Juan De Luriganc     8   \n",
       "\n",
       "                mccg_name   mcc  quantity  amount_usd  amount_sol  week  \\\n",
       "0         Clothing Stores  5655         1   13.875570        45.0    27   \n",
       "1        Utility Services  4812         1   32.067984       104.0    22   \n",
       "2  Retail Outlet Services  5533         1   55.502280       180.0    38   \n",
       "\n",
       "   weekday       day  turn  \n",
       "0        3  Thursday     1  \n",
       "1        0    Monday     4  \n",
       "2        5  Saturday     3  "
      ]
     },
     "execution_count": 4,
     "metadata": {},
     "output_type": "execute_result"
    }
   ],
   "source": [
    "sessions = profile_manager.session_data(font=to_read)\n",
    "sessions.head(3)"
   ]
  },
  {
   "cell_type": "code",
   "execution_count": 5,
   "metadata": {},
   "outputs": [
    {
     "name": "stdout",
     "output_type": "stream",
     "text": [
      "Procesando archivo\n",
      "Archivo encontrado\n"
     ]
    }
   ],
   "source": [
    "footprints = profile_manager.footprints(font=to_read,count_session=False)"
   ]
  },
  {
   "cell_type": "code",
   "execution_count": 6,
   "metadata": {
    "scrolled": false
   },
   "outputs": [
    {
     "name": "stdout",
     "output_type": "stream",
     "text": [
      "Procesando archivo\n",
      "Archivo encontrado\n"
     ]
    }
   ],
   "source": [
    "footprints = profile_manager.footprints(font=to_read,count_session=False)"
   ]
  },
  {
   "cell_type": "code",
   "execution_count": 7,
   "metadata": {
    "scrolled": true
   },
   "outputs": [
    {
     "data": {
      "text/html": [
       "<div>\n",
       "<style scoped>\n",
       "    .dataframe tbody tr th:only-of-type {\n",
       "        vertical-align: middle;\n",
       "    }\n",
       "\n",
       "    .dataframe tbody tr th {\n",
       "        vertical-align: top;\n",
       "    }\n",
       "\n",
       "    .dataframe thead th {\n",
       "        text-align: right;\n",
       "    }\n",
       "</style>\n",
       "<table border=\"1\" class=\"dataframe\">\n",
       "  <thead>\n",
       "    <tr style=\"text-align: right;\">\n",
       "      <th></th>\n",
       "      <th>footprint_id</th>\n",
       "      <th>user_id</th>\n",
       "      <th>year</th>\n",
       "      <th>week</th>\n",
       "      <th>profile_id</th>\n",
       "      <th>category</th>\n",
       "      <th>turn</th>\n",
       "      <th>size</th>\n",
       "      <th>c2t1d0</th>\n",
       "      <th>c2t1d1</th>\n",
       "      <th>...</th>\n",
       "      <th>c13t3d3</th>\n",
       "      <th>c13t3d4</th>\n",
       "      <th>c13t3d5</th>\n",
       "      <th>c13t3d6</th>\n",
       "      <th>c13t4d0</th>\n",
       "      <th>c13t4d1</th>\n",
       "      <th>c13t4d2</th>\n",
       "      <th>c13t4d3</th>\n",
       "      <th>c13t4d4</th>\n",
       "      <th>c13t4d5</th>\n",
       "    </tr>\n",
       "  </thead>\n",
       "  <tbody>\n",
       "    <tr>\n",
       "      <th>0</th>\n",
       "      <td>+++g8j9k+5A=-2016-27</td>\n",
       "      <td>+++g8j9k+5A=</td>\n",
       "      <td>2016</td>\n",
       "      <td>27</td>\n",
       "      <td>0</td>\n",
       "      <td>9</td>\n",
       "      <td>1</td>\n",
       "      <td>45.0</td>\n",
       "      <td>0.0</td>\n",
       "      <td>0.0</td>\n",
       "      <td>...</td>\n",
       "      <td>0.0</td>\n",
       "      <td>0.0</td>\n",
       "      <td>0.0</td>\n",
       "      <td>0.0</td>\n",
       "      <td>0.0</td>\n",
       "      <td>0.0</td>\n",
       "      <td>0.0</td>\n",
       "      <td>0.0</td>\n",
       "      <td>0.0</td>\n",
       "      <td>0.0</td>\n",
       "    </tr>\n",
       "    <tr>\n",
       "      <th>1</th>\n",
       "      <td>++/oQ9Lb9dI=-2017-22</td>\n",
       "      <td>++/oQ9Lb9dI=</td>\n",
       "      <td>2017</td>\n",
       "      <td>22</td>\n",
       "      <td>0</td>\n",
       "      <td>7</td>\n",
       "      <td>4</td>\n",
       "      <td>104.0</td>\n",
       "      <td>0.0</td>\n",
       "      <td>0.0</td>\n",
       "      <td>...</td>\n",
       "      <td>0.0</td>\n",
       "      <td>0.0</td>\n",
       "      <td>0.0</td>\n",
       "      <td>0.0</td>\n",
       "      <td>0.0</td>\n",
       "      <td>0.0</td>\n",
       "      <td>0.0</td>\n",
       "      <td>0.0</td>\n",
       "      <td>0.0</td>\n",
       "      <td>0.0</td>\n",
       "    </tr>\n",
       "    <tr>\n",
       "      <th>2</th>\n",
       "      <td>++1XMtcwMec=-2016-38</td>\n",
       "      <td>++1XMtcwMec=</td>\n",
       "      <td>2016</td>\n",
       "      <td>38</td>\n",
       "      <td>0</td>\n",
       "      <td>8</td>\n",
       "      <td>3</td>\n",
       "      <td>180.0</td>\n",
       "      <td>0.0</td>\n",
       "      <td>0.0</td>\n",
       "      <td>...</td>\n",
       "      <td>0.0</td>\n",
       "      <td>0.0</td>\n",
       "      <td>0.0</td>\n",
       "      <td>0.0</td>\n",
       "      <td>0.0</td>\n",
       "      <td>0.0</td>\n",
       "      <td>0.0</td>\n",
       "      <td>0.0</td>\n",
       "      <td>0.0</td>\n",
       "      <td>0.0</td>\n",
       "    </tr>\n",
       "    <tr>\n",
       "      <th>3</th>\n",
       "      <td>++5u+heOZ8o=-2016-43</td>\n",
       "      <td>++5u+heOZ8o=</td>\n",
       "      <td>2016</td>\n",
       "      <td>43</td>\n",
       "      <td>0</td>\n",
       "      <td>8</td>\n",
       "      <td>3</td>\n",
       "      <td>93.4</td>\n",
       "      <td>0.0</td>\n",
       "      <td>0.0</td>\n",
       "      <td>...</td>\n",
       "      <td>0.0</td>\n",
       "      <td>0.0</td>\n",
       "      <td>0.0</td>\n",
       "      <td>0.0</td>\n",
       "      <td>0.0</td>\n",
       "      <td>0.0</td>\n",
       "      <td>0.0</td>\n",
       "      <td>0.0</td>\n",
       "      <td>0.0</td>\n",
       "      <td>0.0</td>\n",
       "    </tr>\n",
       "    <tr>\n",
       "      <th>4</th>\n",
       "      <td>++5u+heOZ8o=-2017-41</td>\n",
       "      <td>++5u+heOZ8o=</td>\n",
       "      <td>2017</td>\n",
       "      <td>41</td>\n",
       "      <td>1</td>\n",
       "      <td>8</td>\n",
       "      <td>3</td>\n",
       "      <td>15.0</td>\n",
       "      <td>0.0</td>\n",
       "      <td>0.0</td>\n",
       "      <td>...</td>\n",
       "      <td>0.0</td>\n",
       "      <td>0.0</td>\n",
       "      <td>0.0</td>\n",
       "      <td>0.0</td>\n",
       "      <td>0.0</td>\n",
       "      <td>0.0</td>\n",
       "      <td>0.0</td>\n",
       "      <td>0.0</td>\n",
       "      <td>0.0</td>\n",
       "      <td>0.0</td>\n",
       "    </tr>\n",
       "  </tbody>\n",
       "</table>\n",
       "<p>5 rows × 215 columns</p>\n",
       "</div>"
      ],
      "text/plain": [
       "           footprint_id       user_id  year  week  profile_id  category  turn  \\\n",
       "0  +++g8j9k+5A=-2016-27  +++g8j9k+5A=  2016    27           0         9     1   \n",
       "1  ++/oQ9Lb9dI=-2017-22  ++/oQ9Lb9dI=  2017    22           0         7     4   \n",
       "2  ++1XMtcwMec=-2016-38  ++1XMtcwMec=  2016    38           0         8     3   \n",
       "3  ++5u+heOZ8o=-2016-43  ++5u+heOZ8o=  2016    43           0         8     3   \n",
       "4  ++5u+heOZ8o=-2017-41  ++5u+heOZ8o=  2017    41           1         8     3   \n",
       "\n",
       "    size  c2t1d0  c2t1d1  ...  c13t3d3  c13t3d4  c13t3d5  c13t3d6  c13t4d0  \\\n",
       "0   45.0     0.0     0.0  ...      0.0      0.0      0.0      0.0      0.0   \n",
       "1  104.0     0.0     0.0  ...      0.0      0.0      0.0      0.0      0.0   \n",
       "2  180.0     0.0     0.0  ...      0.0      0.0      0.0      0.0      0.0   \n",
       "3   93.4     0.0     0.0  ...      0.0      0.0      0.0      0.0      0.0   \n",
       "4   15.0     0.0     0.0  ...      0.0      0.0      0.0      0.0      0.0   \n",
       "\n",
       "   c13t4d1  c13t4d2  c13t4d3  c13t4d4  c13t4d5  \n",
       "0      0.0      0.0      0.0      0.0      0.0  \n",
       "1      0.0      0.0      0.0      0.0      0.0  \n",
       "2      0.0      0.0      0.0      0.0      0.0  \n",
       "3      0.0      0.0      0.0      0.0      0.0  \n",
       "4      0.0      0.0      0.0      0.0      0.0  \n",
       "\n",
       "[5 rows x 215 columns]"
      ]
     },
     "execution_count": 7,
     "metadata": {},
     "output_type": "execute_result"
    }
   ],
   "source": [
    "footprints.head()\n",
    "#footprints"
   ]
  },
  {
   "cell_type": "code",
   "execution_count": null,
   "metadata": {},
   "outputs": [],
   "source": []
  },
  {
   "cell_type": "code",
   "execution_count": 8,
   "metadata": {},
   "outputs": [],
   "source": [
    "# footprints[['footprint_id','year','week','profile_id','category','turn','size','c10t4d0']]"
   ]
  },
  {
   "cell_type": "markdown",
   "metadata": {},
   "source": [
    "## Clustering individual\n",
    "\n",
    "En esta etapa contruiremos los \"footprints\" basicos (tensores dimesionales) de cada cliente a partir de sus datos transaccionales, la dimesiones del footprint son elegidas por el usuario, nosotros tenemos los siguientes casos de estudio:"
   ]
  },
  {
   "cell_type": "code",
   "execution_count": 9,
   "metadata": {},
   "outputs": [],
   "source": [
    "# FUNCIONES DE APOYO (CLUSTERS)\n",
    "\n",
    "def process_footprint(data,tests,log=False):\n",
    "    from sklearn.cluster import MiniBatchKMeans\n",
    "    #KMeans(init='k-means++', n_clusters=k, n_init=10)\n",
    "    import datetime\n",
    "    K={}  #  Creamos una lista vacia\n",
    "    # Probamos para cada K\n",
    "    for k in tests:\n",
    "        if k<=len(data):\n",
    "            if log:\n",
    "                print(\"%s: processing %s\"%(datetime.datetime.now(),k))\n",
    "            \n",
    "            # Cargamos en K(indice k) = los resultados de \"MiniBatchKMeans\"\n",
    "            K[k]=bench_k_means(MiniBatchKMeans(init='k-means++', n_clusters=k, batch_size=100,\n",
    "                      n_init=10, max_no_improvement=10, verbose=0,\n",
    "                      random_state=0),name=\"k-means++\", data=data)\n",
    "            \n",
    "    return K\n",
    "\n",
    "def bench_k_means(estimator, name, data,distance_function=None):\n",
    "    from sklearn import metrics\n",
    "    from sklearn.metrics import silhouette_samples, silhouette_score\n",
    "    import time\n",
    "    t0 = time.time()\n",
    "    if distance_function:\n",
    "        estimator.fit(data,distance_function)\n",
    "    else:\n",
    "        estimator.fit(data)\n",
    "    #cluster_labels = estimator.fit_predict(data)\n",
    "    #silhouette_score_ = silhouette_score(data, cluster_labels)\n",
    "    \n",
    "    inertia=estimator.inertia_\n",
    "    duration=time.time() - t0\n",
    "    return {'inertia':inertia,'duration':duration, 'estimator':estimator}#,'silhouette':silhouette_score_}\n",
    "\n",
    "def compute_best_k(x,y,occurrencies, plot=False,points=1000,sf=0.9):\n",
    "    import numpy as np\n",
    "    \n",
    "    if len(x)<5:\n",
    "        b_k = max(1, round(np.sqrt(occurrencies/2)))\n",
    "        if plot:\n",
    "            import pylab\n",
    "            pylab.plot(x,y)\n",
    "            pylab.scatter(x[b_k],y[b_k],s=20, marker='o')\n",
    "            pylab.text(x[b_k],y[b_k],\"bestK %s\" %(b_k))\n",
    "            pylab.show()\n",
    "            return b_k\n",
    "\n",
    "        return b_k\n",
    "    \n",
    "    import scipy.interpolate as inter\n",
    "    from scipy.interpolate import interp1d\n",
    "    from scipy.interpolate import UnivariateSpline\n",
    "    # spl = UnivariateSpline(x, y)\n",
    "    spl = inter.InterpolatedUnivariateSpline (x, y)\n",
    "    spl.set_smoothing_factor(sf)\n",
    "    xs = np.linspace(min(x), max(x), points)\n",
    "    ys = spl(xs)\n",
    "    idx_better_k=get_change_point(xs, ys)\n",
    "    if plot:\n",
    "        import pylab\n",
    "        pylab.plot(xs,ys)\n",
    "        \n",
    "        pylab.scatter(xs[idx_better_k],ys[idx_better_k],s=20, marker='o')\n",
    "        pylab.text(xs[idx_better_k],ys[idx_better_k],\"bestK %s\" %(np.round(xs[idx_better_k])))\n",
    "        pylab.show()\n",
    "        return int(np.round(xs[idx_better_k]))\n",
    "    return int(np.round(xs[idx_better_k]))\n",
    "\n",
    "def get_change_point(x, y):\n",
    "    \"\"\"\n",
    "         Elección del mejor K\n",
    "         :: param x: lista de valores de K\n",
    "         :: param y: lista de valores de SSE\n",
    "    \"\"\"\n",
    "    import math\n",
    "    max_d = -float('infinity')\n",
    "    index = 0\n",
    "\n",
    "    for i in range(0, len(x)):\n",
    "        c = closest_point_on_segment(a=[x[0], y[0]], b=[x[len(x)-1], y[len(y)-1]], p=[x[i], y[i]])\n",
    "        d = math.sqrt((c[0]-x[i])**2 + (c[1]-y[i])**2)\n",
    "        if d > max_d:\n",
    "            max_d = d\n",
    "            index = i\n",
    "    \n",
    "    return index\n",
    "\n",
    "def closest_point_on_segment(a, b, p):\n",
    "    sx1 = a[0]\n",
    "    sx2 = b[0]\n",
    "    sy1 = a[1]\n",
    "    sy2 = b[1]\n",
    "    px = p[0]\n",
    "    py = p[1]\n",
    "\n",
    "    x_delta = sx2 - sx1\n",
    "    y_delta = sy2 - sy1\n",
    "\n",
    "    if x_delta == 0 and y_delta == 0:\n",
    "        return p\n",
    "\n",
    "    u = ((px - sx1) * x_delta + (py - sy1) * y_delta) / (x_delta * x_delta + y_delta *  y_delta)\n",
    "    if u < 0:\n",
    "        closest_point = a\n",
    "    elif u > 1:\n",
    "        closest_point = b\n",
    "    else:\n",
    "        cp_x = sx1 + u * x_delta\n",
    "        cp_y = sy1 + u * y_delta\n",
    "        closest_point = [cp_x, cp_y]\n",
    "\n",
    "    return closest_point\n",
    "  "
   ]
  },
  {
   "cell_type": "code",
   "execution_count": 32,
   "metadata": {},
   "outputs": [],
   "source": [
    "def process_data(to_cluster):\n",
    "    K=process_footprint(to_cluster,np.arange(1,len(to_cluster)+1))\n",
    "    \n",
    "    # Choose k\n",
    "    x=list(K.keys())\n",
    "    y=[K[k]['inertia'] for k in K]\n",
    "    best_k=compute_best_k(x,y,len(to_cluster))\n",
    "    \n",
    "    # print(str(contador)+' => clustering: '+str(clientes[n_cliente])+' len data: '+str(len(data))+\" best k: \"+str(best_k))\n",
    "\n",
    "    # clustering\n",
    "    if best_k==1:\n",
    "        #to few records\n",
    "        cluster_centers = [np.average(to_cluster,axis=0)]\n",
    "        labels = [0]*len(to_cluster)  \n",
    "    else:\n",
    "        cluster_centers = K[best_k]['estimator'].cluster_centers_\n",
    "        labels = K[best_k]['estimator'].labels_\n",
    "\n",
    "    return cluster_centers,labels"
   ]
  },
  {
   "cell_type": "code",
   "execution_count": null,
   "metadata": {},
   "outputs": [],
   "source": []
  },
  {
   "cell_type": "code",
   "execution_count": 33,
   "metadata": {},
   "outputs": [],
   "source": [
    "title = list(footprints.columns)[8:]\n",
    "users = np.unique(footprints['user_id'])"
   ]
  },
  {
   "cell_type": "code",
   "execution_count": 34,
   "metadata": {
    "scrolled": true
   },
   "outputs": [
    {
     "data": {
      "text/html": [
       "<div>\n",
       "<style scoped>\n",
       "    .dataframe tbody tr th:only-of-type {\n",
       "        vertical-align: middle;\n",
       "    }\n",
       "\n",
       "    .dataframe tbody tr th {\n",
       "        vertical-align: top;\n",
       "    }\n",
       "\n",
       "    .dataframe thead th {\n",
       "        text-align: right;\n",
       "    }\n",
       "</style>\n",
       "<table border=\"1\" class=\"dataframe\">\n",
       "  <thead>\n",
       "    <tr style=\"text-align: right;\">\n",
       "      <th></th>\n",
       "      <th>footprint_id</th>\n",
       "    </tr>\n",
       "    <tr>\n",
       "      <th>user_id</th>\n",
       "      <th></th>\n",
       "    </tr>\n",
       "  </thead>\n",
       "  <tbody>\n",
       "    <tr>\n",
       "      <th>++xDKRJ6IeY=</th>\n",
       "      <td>40</td>\n",
       "    </tr>\n",
       "    <tr>\n",
       "      <th>+/Do1tHAglE=</th>\n",
       "      <td>24</td>\n",
       "    </tr>\n",
       "    <tr>\n",
       "      <th>+/lD5dlCkgo=</th>\n",
       "      <td>22</td>\n",
       "    </tr>\n",
       "    <tr>\n",
       "      <th>+/oJfnANIYw=</th>\n",
       "      <td>32</td>\n",
       "    </tr>\n",
       "    <tr>\n",
       "      <th>+1iAu1SJCWs=</th>\n",
       "      <td>27</td>\n",
       "    </tr>\n",
       "  </tbody>\n",
       "</table>\n",
       "</div>"
      ],
      "text/plain": [
       "              footprint_id\n",
       "user_id                   \n",
       "++xDKRJ6IeY=            40\n",
       "+/Do1tHAglE=            24\n",
       "+/lD5dlCkgo=            22\n",
       "+/oJfnANIYw=            32\n",
       "+1iAu1SJCWs=            27"
      ]
     },
     "execution_count": 34,
     "metadata": {},
     "output_type": "execute_result"
    }
   ],
   "source": [
    "abc = footprints[['user_id','footprint_id']].groupby(by=\"user_id\").count()\n",
    "abcd = abc[abc['footprint_id']>20]\n",
    "users2 = list(abcd.index)\n",
    "abcd.head()"
   ]
  },
  {
   "cell_type": "code",
   "execution_count": 35,
   "metadata": {},
   "outputs": [],
   "source": [
    "file_individual_cluster = 'footprint_individual.cluster'\n",
    "file_individual_label = 'footprint_individual.label'"
   ]
  },
  {
   "cell_type": "code",
   "execution_count": 43,
   "metadata": {},
   "outputs": [
    {
     "ename": "IndexError",
     "evalue": "list index out of range",
     "output_type": "error",
     "traceback": [
      "\u001b[0;31m---------------------------------------------------------------------------\u001b[0m",
      "\u001b[0;31mIndexError\u001b[0m                                Traceback (most recent call last)",
      "\u001b[0;32m<ipython-input-43-bc06594a5210>\u001b[0m in \u001b[0;36m<module>\u001b[0;34m\u001b[0m\n\u001b[1;32m     14\u001b[0m     \u001b[0;31m# Clustering buffer\u001b[0m\u001b[0;34m\u001b[0m\u001b[0;34m\u001b[0m\u001b[0;34m\u001b[0m\u001b[0m\n\u001b[1;32m     15\u001b[0m     \u001b[0mto_cluster\u001b[0m\u001b[0;34m=\u001b[0m\u001b[0;34m[\u001b[0m\u001b[0mel\u001b[0m\u001b[0;34m[\u001b[0m\u001b[0;36m1\u001b[0m\u001b[0;34m]\u001b[0m \u001b[0;32mfor\u001b[0m \u001b[0mel\u001b[0m \u001b[0;32min\u001b[0m \u001b[0mbuffer\u001b[0m\u001b[0;34m]\u001b[0m\u001b[0;34m\u001b[0m\u001b[0;34m\u001b[0m\u001b[0m\n\u001b[0;32m---> 16\u001b[0;31m     \u001b[0mtemporal\u001b[0m\u001b[0;34m=\u001b[0m \u001b[0mprocess_data\u001b[0m\u001b[0;34m(\u001b[0m\u001b[0mto_cluster\u001b[0m\u001b[0;34m)\u001b[0m\u001b[0;34m\u001b[0m\u001b[0;34m\u001b[0m\u001b[0m\n\u001b[0m\u001b[1;32m     17\u001b[0m \u001b[0;34m\u001b[0m\u001b[0m\n\u001b[1;32m     18\u001b[0m     \u001b[0mcluster_centers_\u001b[0m\u001b[0;34m=\u001b[0m\u001b[0mtemporal\u001b[0m\u001b[0;34m[\u001b[0m\u001b[0;36m0\u001b[0m\u001b[0;34m]\u001b[0m\u001b[0;34m\u001b[0m\u001b[0;34m\u001b[0m\u001b[0m\n",
      "\u001b[0;32m<ipython-input-32-210c66a97c57>\u001b[0m in \u001b[0;36mprocess_data\u001b[0;34m(to_cluster)\u001b[0m\n\u001b[1;32m      5\u001b[0m     \u001b[0mx\u001b[0m\u001b[0;34m=\u001b[0m\u001b[0mlist\u001b[0m\u001b[0;34m(\u001b[0m\u001b[0mK\u001b[0m\u001b[0;34m.\u001b[0m\u001b[0mkeys\u001b[0m\u001b[0;34m(\u001b[0m\u001b[0;34m)\u001b[0m\u001b[0;34m)\u001b[0m\u001b[0;34m\u001b[0m\u001b[0;34m\u001b[0m\u001b[0m\n\u001b[1;32m      6\u001b[0m     \u001b[0my\u001b[0m\u001b[0;34m=\u001b[0m\u001b[0;34m[\u001b[0m\u001b[0mK\u001b[0m\u001b[0;34m[\u001b[0m\u001b[0mk\u001b[0m\u001b[0;34m]\u001b[0m\u001b[0;34m[\u001b[0m\u001b[0;34m'inertia'\u001b[0m\u001b[0;34m]\u001b[0m \u001b[0;32mfor\u001b[0m \u001b[0mk\u001b[0m \u001b[0;32min\u001b[0m \u001b[0mK\u001b[0m\u001b[0;34m]\u001b[0m\u001b[0;34m\u001b[0m\u001b[0;34m\u001b[0m\u001b[0m\n\u001b[0;32m----> 7\u001b[0;31m     \u001b[0mbest_k\u001b[0m\u001b[0;34m=\u001b[0m\u001b[0mcompute_best_k\u001b[0m\u001b[0;34m(\u001b[0m\u001b[0mx\u001b[0m\u001b[0;34m,\u001b[0m\u001b[0my\u001b[0m\u001b[0;34m,\u001b[0m\u001b[0mlen\u001b[0m\u001b[0;34m(\u001b[0m\u001b[0mto_cluster\u001b[0m\u001b[0;34m)\u001b[0m\u001b[0;34m)\u001b[0m\u001b[0;34m\u001b[0m\u001b[0;34m\u001b[0m\u001b[0m\n\u001b[0m\u001b[1;32m      8\u001b[0m \u001b[0;34m\u001b[0m\u001b[0m\n\u001b[1;32m      9\u001b[0m     \u001b[0;31m# print(str(contador)+' => clustering: '+str(clientes[n_cliente])+' len data: '+str(len(data))+\" best k: \"+str(best_k))\u001b[0m\u001b[0;34m\u001b[0m\u001b[0;34m\u001b[0m\u001b[0;34m\u001b[0m\u001b[0m\n",
      "\u001b[0;32m<ipython-input-42-3d9021bff49e>\u001b[0m in \u001b[0;36mcompute_best_k\u001b[0;34m(x, y, occurrencies, plot, points, sf)\u001b[0m\n\u001b[1;32m      7\u001b[0m             \u001b[0;32mimport\u001b[0m \u001b[0mpylab\u001b[0m\u001b[0;34m\u001b[0m\u001b[0;34m\u001b[0m\u001b[0m\n\u001b[1;32m      8\u001b[0m             \u001b[0mpylab\u001b[0m\u001b[0;34m.\u001b[0m\u001b[0mplot\u001b[0m\u001b[0;34m(\u001b[0m\u001b[0mx\u001b[0m\u001b[0;34m,\u001b[0m\u001b[0my\u001b[0m\u001b[0;34m)\u001b[0m\u001b[0;34m\u001b[0m\u001b[0;34m\u001b[0m\u001b[0m\n\u001b[0;32m----> 9\u001b[0;31m             \u001b[0mpylab\u001b[0m\u001b[0;34m.\u001b[0m\u001b[0mscatter\u001b[0m\u001b[0;34m(\u001b[0m\u001b[0mx\u001b[0m\u001b[0;34m[\u001b[0m\u001b[0mb_k\u001b[0m\u001b[0;34m]\u001b[0m\u001b[0;34m,\u001b[0m\u001b[0my\u001b[0m\u001b[0;34m[\u001b[0m\u001b[0mb_k\u001b[0m\u001b[0;34m]\u001b[0m\u001b[0;34m,\u001b[0m\u001b[0ms\u001b[0m\u001b[0;34m=\u001b[0m\u001b[0;36m20\u001b[0m\u001b[0;34m,\u001b[0m \u001b[0mmarker\u001b[0m\u001b[0;34m=\u001b[0m\u001b[0;34m'o'\u001b[0m\u001b[0;34m)\u001b[0m\u001b[0;34m\u001b[0m\u001b[0;34m\u001b[0m\u001b[0m\n\u001b[0m\u001b[1;32m     10\u001b[0m             \u001b[0mpylab\u001b[0m\u001b[0;34m.\u001b[0m\u001b[0mtext\u001b[0m\u001b[0;34m(\u001b[0m\u001b[0mx\u001b[0m\u001b[0;34m[\u001b[0m\u001b[0mb_k\u001b[0m\u001b[0;34m]\u001b[0m\u001b[0;34m,\u001b[0m\u001b[0my\u001b[0m\u001b[0;34m[\u001b[0m\u001b[0mb_k\u001b[0m\u001b[0;34m]\u001b[0m\u001b[0;34m,\u001b[0m\u001b[0;34m\"bestK %s\"\u001b[0m \u001b[0;34m%\u001b[0m\u001b[0;34m(\u001b[0m\u001b[0mb_k\u001b[0m\u001b[0;34m)\u001b[0m\u001b[0;34m)\u001b[0m\u001b[0;34m\u001b[0m\u001b[0;34m\u001b[0m\u001b[0m\n\u001b[1;32m     11\u001b[0m             \u001b[0;32mreturn\u001b[0m \u001b[0mb_k\u001b[0m\u001b[0;34m,\u001b[0m\u001b[0mpylab\u001b[0m\u001b[0;34m\u001b[0m\u001b[0;34m\u001b[0m\u001b[0m\n",
      "\u001b[0;31mIndexError\u001b[0m: list index out of range"
     ]
    },
    {
     "data": {
      "image/png": "[encoded data removed]",
      "text/plain": [
       "<Figure size 432x288 with 1 Axes>"
      ]
     },
     "metadata": {
      "needs_background": "light"
     },
     "output_type": "display_data"
    }
   ],
   "source": [
    "start = time.time()\n",
    "\n",
    "individual_cluster = []\n",
    "individual_labels = []\n",
    "\n",
    "#for user in users2[0:10]:\n",
    "for user in users[0:10]:\n",
    "    user_footprints = footprints[footprints['user_id'] == user]\n",
    "    #print(user)\n",
    "    buffer = []\n",
    "    for index, row in user_footprints.iterrows():\n",
    "        buffer.append(([row['footprint_id'],user,row['year'],row['week']],row[title].values))\n",
    "\n",
    "    # Clustering buffer\n",
    "    to_cluster=[el[1] for el in buffer]\n",
    "    temporal= process_data(to_cluster)\n",
    "    \n",
    "    cluster_centers_=temporal[0]\n",
    "    cluster_labels_=temporal[1]\n",
    "\n",
    "    for i in np.arange(len(cluster_centers_)):\n",
    "        individual_cluster.append([user, i, *cluster_centers_[i]])\n",
    "\n",
    "    cont = 0\n",
    "    for row in buffer:\n",
    "        individual_labels.append(row[0] + [cluster_labels_[cont]])\n",
    "        cont+=1\n",
    "        \n",
    "end = time.time()\n",
    "print(end - start)"
   ]
  },
  {
   "cell_type": "code",
   "execution_count": null,
   "metadata": {},
   "outputs": [],
   "source": []
  },
  {
   "cell_type": "code",
   "execution_count": null,
   "metadata": {},
   "outputs": [],
   "source": []
  },
  {
   "cell_type": "code",
   "execution_count": 41,
   "metadata": {},
   "outputs": [
    {
     "name": "stdout",
     "output_type": "stream",
     "text": [
      "++FMZ01PEY4=\n",
      "52\n"
     ]
    },
    {
     "name": "stderr",
     "output_type": "stream",
     "text": [
      "/usr/local/lib/python3.6/dist-packages/scipy/interpolate/fitpack2.py:253: UserWarning: \n",
      "The maximal number of iterations maxit (set to 20 by the program)\n",
      "allowed for finding a smoothing spline with fp=s has been reached: s\n",
      "too small.\n",
      "There is an approximation returned but the corresponding weighted sum\n",
      "of squared residuals does not satisfy the condition abs(fp-s)/s < tol.\n",
      "  warnings.warn(message)\n"
     ]
    }
   ],
   "source": [
    "user_footprints = footprints[footprints['user_id'] == users2[7]]\n",
    "print(user)\n",
    "print(len(user_footprints))\n",
    "buffer = []\n",
    "for index, row in user_footprints.iterrows():\n",
    "    buffer.append(([row['footprint_id'],user,row['year'],row['week']],row[title].values))\n",
    "    \n",
    "    \n",
    "to_cluster=[el[1] for el in buffer]\n",
    "temporal= process_data(to_cluster)"
   ]
  },
  {
   "cell_type": "code",
   "execution_count": 21,
   "metadata": {},
   "outputs": [
    {
     "name": "stdout",
     "output_type": "stream",
     "text": [
      "+6hoZ/SG2eo=\n",
      "27\n"
     ]
    },
    {
     "data": {
      "image/png": "[encoded data removed]",
      "text/plain": [
       "<Figure size 432x288 with 1 Axes>"
      ]
     },
     "metadata": {
      "needs_background": "light"
     },
     "output_type": "display_data"
    }
   ],
   "source": [
    "user_footprints = footprints[footprints['user_id'] == users2[4]]\n",
    "print(user)\n",
    "print(len(user_footprints))\n",
    "buffer = []\n",
    "for index, row in user_footprints.iterrows():\n",
    "    buffer.append(([row['footprint_id'],user,row['year'],row['week']],row[title].values))\n",
    "    \n",
    "to_cluster=[el[1] for el in buffer]\n",
    "\n",
    "temporal= process_data(to_cluster)"
   ]
  },
  {
   "cell_type": "code",
   "execution_count": 25,
   "metadata": {},
   "outputs": [],
   "source": [
    "from sklearn.datasets import make_blobs\n",
    "from sklearn.cluster import KMeans\n",
    "from sklearn.metrics import silhouette_score\n",
    "\n",
    "# Create dataset with 3 random cluster centers and 1000 datapoints\n",
    "x, y = make_blobs(n_samples = 1000, centers = 3, n_features=2, shuffle=True, random_state=31)\n",
    "\n",
    "sil = []\n",
    "kmax = 10\n",
    "\n",
    "# dissimilarity would not be defined for a single cluster, thus, minimum number of clusters should be 2\n",
    "for k in range(2, kmax+1):\n",
    "    kmeans = KMeans(n_clusters = k).fit(x)\n",
    "    labels = kmeans.labels_\n",
    "    sil.append(silhouette_score(x, labels, metric = 'euclidean'))"
   ]
  },
  {
   "cell_type": "code",
   "execution_count": 26,
   "metadata": {},
   "outputs": [
    {
     "data": {
      "text/plain": [
       "[0.7554555291482525,\n",
       " 0.8430349122094365,\n",
       " 0.6809957727073547,\n",
       " 0.514397018217244,\n",
       " 0.3264926130389003,\n",
       " 0.33942422031122,\n",
       " 0.3451785230414193,\n",
       " 0.34001064638878437,\n",
       " 0.3394133451170555]"
      ]
     },
     "execution_count": 26,
     "metadata": {},
     "output_type": "execute_result"
    }
   ],
   "source": [
    "sil"
   ]
  },
  {
   "cell_type": "code",
   "execution_count": 42,
   "metadata": {},
   "outputs": [],
   "source": [
    "def compute_best_k(x,y,occurrencies, plot=True,points=30,sf=0.1):\n",
    "    import numpy as np\n",
    "    \n",
    "    if len(x)<5:\n",
    "        b_k = max(1, round(np.sqrt(occurrencies/2)))\n",
    "        if plot:\n",
    "            import pylab\n",
    "            pylab.plot(x,y)\n",
    "            pylab.scatter(x[b_k],y[b_k],s=x, marker='o')\n",
    "            pylab.text(x[b_k],y[b_k],\"bestK %s\" %(b_k))\n",
    "            return b_k,pylab\n",
    "\n",
    "        return b_k\n",
    "    \n",
    "    import scipy.interpolate as inter\n",
    "    from scipy.interpolate import UnivariateSpline\n",
    "    \n",
    "    spl = inter.InterpolatedUnivariateSpline (x, y)\n",
    "    spl.set_smoothing_factor(sf)\n",
    "    xs = np.linspace(min(x), max(x), points)\n",
    "    ys = spl(xs)\n",
    "    idx_better_k=get_change_point(xs, ys)\n",
    "    if plot:\n",
    "        import pylab\n",
    "        pylab.plot(xs,ys)\n",
    "        \n",
    "        pylab.scatter(xs[idx_better_k],ys[idx_better_k],s=20, marker='o')\n",
    "        pylab.text(xs[idx_better_k],ys[idx_better_k],\"bestK %s\" %(np.round(xs[idx_better_k])))\n",
    "        return int(np.round(xs[idx_better_k]))\n",
    "    return int(np.round(xs[idx_better_k]))\n"
   ]
  },
  {
   "cell_type": "code",
   "execution_count": null,
   "metadata": {},
   "outputs": [],
   "source": [
    "temporal[1]"
   ]
  },
  {
   "cell_type": "code",
   "execution_count": null,
   "metadata": {},
   "outputs": [],
   "source": [
    "import scipy.interpolate as inter\n",
    "from scipy.interpolate import UnivariateSpline"
   ]
  },
  {
   "cell_type": "code",
   "execution_count": null,
   "metadata": {},
   "outputs": [],
   "source": [
    "K=process_footprint(to_cluster,np.arange(1,len(to_cluster)+1))"
   ]
  },
  {
   "cell_type": "code",
   "execution_count": null,
   "metadata": {},
   "outputs": [],
   "source": [
    "# Choose k\n",
    "x=list(K.keys())\n",
    "y=[K[k]['inertia'] for k in K]"
   ]
  },
  {
   "cell_type": "code",
   "execution_count": null,
   "metadata": {},
   "outputs": [],
   "source": [
    "spl = UnivariateSpline(x[0:20], y[0:20])"
   ]
  },
  {
   "cell_type": "code",
   "execution_count": null,
   "metadata": {},
   "outputs": [],
   "source": [
    "sf=0.9\n",
    "spl = UnivariateSpline(x, y)\n",
    "spl.set_smoothing_factor(sf)"
   ]
  },
  {
   "cell_type": "code",
   "execution_count": null,
   "metadata": {},
   "outputs": [],
   "source": [
    "spl = UnivariateSpline(x,y)"
   ]
  },
  {
   "cell_type": "code",
   "execution_count": null,
   "metadata": {},
   "outputs": [],
   "source": [
    "spl = inter.InterpolatedUnivariateSpline (x, y)\n",
    "spl.set_smoothing_factor(sf)"
   ]
  },
  {
   "cell_type": "code",
   "execution_count": null,
   "metadata": {},
   "outputs": [],
   "source": [
    "spl.get_coeffs()"
   ]
  },
  {
   "cell_type": "code",
   "execution_count": null,
   "metadata": {
    "scrolled": true
   },
   "outputs": [],
   "source": [
    "best_k=compute_best_k(x,y,s=0.1)"
   ]
  },
  {
   "cell_type": "code",
   "execution_count": null,
   "metadata": {},
   "outputs": [],
   "source": [
    "best_k=compute_best_k(x[0:18], y[0:18],18)"
   ]
  },
  {
   "cell_type": "code",
   "execution_count": null,
   "metadata": {},
   "outputs": [],
   "source": [
    "K=process_footprint(to_cluster,np.arange(1,len(to_cluster)+1))\n",
    "    \n",
    "    # Choose k\n",
    "    x=list(K.keys())\n",
    "    y=[K[k]['inertia'] for k in K]\n",
    "    best_k=compute_best_k(x,y,len(to_cluster))\n",
    "    \n",
    "    # clustering\n",
    "    if best_k==1:\n",
    "        #to few records\n",
    "        cluster_centers = [np.average(to_cluster,axis=0)]\n",
    "        labels = [0]*len(to_cluster)  \n",
    "    else:\n",
    "        cluster_centers = K[best_k]['estimator'].cluster_centers_\n",
    "        labels = K[best_k]['estimator'].labels_\n",
    "\n",
    "    return cluster_centers,labels"
   ]
  },
  {
   "cell_type": "code",
   "execution_count": null,
   "metadata": {},
   "outputs": [],
   "source": []
  },
  {
   "cell_type": "code",
   "execution_count": null,
   "metadata": {},
   "outputs": [],
   "source": [
    "def compute_best_k(x,y,occurrencies, plot=True,points=10,sf=0.9):\n",
    "    import numpy as np\n",
    "    \n",
    "    if len(x)<5:\n",
    "        b_k = max(1, round(np.sqrt(occurrencies/2)))\n",
    "        if plot:\n",
    "            import pylab\n",
    "            pylab.plot(x,y)\n",
    "            pylab.scatter(x[b_k],y[b_k],s=20, marker='o')\n",
    "            pylab.text(x[b_k],y[b_k],\"bestK %s\" %(b_k))\n",
    "            return b_k,pylab\n",
    "\n",
    "        return b_k\n",
    "    \n",
    "    import scipy.interpolate as inter\n",
    "    from scipy.interpolate import UnivariateSpline\n",
    "    \n",
    "    spl = inter.InterpolatedUnivariateSpline (x, y)\n",
    "    spl.set_smoothing_factor(sf)\n",
    "    xs = np.linspace(min(x), max(x), points)\n",
    "    ys = spl(xs)\n",
    "    idx_better_k=get_change_point(xs, ys)\n",
    "    if plot:\n",
    "        import pylab\n",
    "        pylab.plot(xs,ys)\n",
    "        \n",
    "        pylab.scatter(xs[idx_better_k],ys[idx_better_k],s=20, marker='o')\n",
    "        pylab.text(xs[idx_better_k],ys[idx_better_k],\"bestK %s\" %(np.round(xs[idx_better_k])))\n",
    "        return int(np.round(xs[idx_better_k]))\n",
    "    return int(np.round(xs[idx_better_k]))\n"
   ]
  },
  {
   "cell_type": "code",
   "execution_count": null,
   "metadata": {},
   "outputs": [],
   "source": []
  },
  {
   "cell_type": "code",
   "execution_count": null,
   "metadata": {},
   "outputs": [],
   "source": []
  },
  {
   "cell_type": "code",
   "execution_count": null,
   "metadata": {},
   "outputs": [],
   "source": []
  },
  {
   "cell_type": "code",
   "execution_count": null,
   "metadata": {},
   "outputs": [],
   "source": []
  },
  {
   "cell_type": "code",
   "execution_count": null,
   "metadata": {},
   "outputs": [],
   "source": []
  },
  {
   "cell_type": "code",
   "execution_count": null,
   "metadata": {},
   "outputs": [],
   "source": []
  },
  {
   "cell_type": "code",
   "execution_count": null,
   "metadata": {},
   "outputs": [],
   "source": []
  },
  {
   "cell_type": "code",
   "execution_count": null,
   "metadata": {},
   "outputs": [],
   "source": []
  },
  {
   "cell_type": "code",
   "execution_count": null,
   "metadata": {},
   "outputs": [],
   "source": []
  },
  {
   "cell_type": "code",
   "execution_count": null,
   "metadata": {},
   "outputs": [],
   "source": []
  },
  {
   "cell_type": "code",
   "execution_count": null,
   "metadata": {},
   "outputs": [],
   "source": []
  }
 ],
 "metadata": {
  "kernelspec": {
   "display_name": "Python 3",
   "language": "python",
   "name": "python3"
  },
  "language_info": {
   "codemirror_mode": {
    "name": "ipython",
    "version": 3
   },
   "file_extension": ".py",
   "mimetype": "text/x-python",
   "name": "python",
   "nbconvert_exporter": "python",
   "pygments_lexer": "ipython3",
   "version": "3.6.9"
  }
 },
 "nbformat": 4,
 "nbformat_minor": 4
}
